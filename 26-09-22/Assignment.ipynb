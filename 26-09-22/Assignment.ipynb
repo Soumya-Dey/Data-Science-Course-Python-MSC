{
 "cells": [
  {
   "cell_type": "markdown",
   "metadata": {},
   "source": [
    "[using lambda]\n",
    "##### 1. find the value of the exp: `(a + b) * (c / d)` ."
   ]
  },
  {
   "cell_type": "code",
   "execution_count": 7,
   "metadata": {},
   "outputs": [
    {
     "name": "stdin",
     "output_type": "stream",
     "text": [
      "Enter value of a:  2\n",
      "Enter value of b:  3\n",
      "Enter value of c:  6\n",
      "Enter value of d:  3\n"
     ]
    },
    {
     "data": {
      "text/plain": [
       "10.0"
      ]
     },
     "execution_count": 7,
     "metadata": {},
     "output_type": "execute_result"
    }
   ],
   "source": [
    "a = float(input(\"Enter value of a: \"))\n",
    "b = float(input(\"Enter value of b: \"))\n",
    "c = float(input(\"Enter value of c: \"))\n",
    "d = float(input(\"Enter value of d: \"))\n",
    "\n",
    "exp = lambda a, b, c, d: (a + b)  * (c / d)\n",
    "result = exp(a, b, c, d)\n",
    "result"
   ]
  },
  {
   "cell_type": "markdown",
   "metadata": {},
   "source": [
    "##### 2. split the odd and even no.s from a given list. [using filter]"
   ]
  },
  {
   "cell_type": "code",
   "execution_count": 9,
   "metadata": {},
   "outputs": [
    {
     "name": "stdin",
     "output_type": "stream",
     "text": [
      "Enter number:  1\n",
      "Enter number:  2\n",
      "Enter number:  3\n",
      "Enter number:  4\n",
      "Enter number:  5\n",
      "Enter number:  6\n",
      "Enter number:  7\n",
      "Enter number:  8\n",
      "Enter number:  9\n",
      "Enter number:  10\n"
     ]
    },
    {
     "name": "stdout",
     "output_type": "stream",
     "text": [
      "Even List:  [2, 4, 6, 8, 10] \n",
      " Odd List:  [1, 3, 5, 7, 9]\n"
     ]
    }
   ],
   "source": [
    "arr = []\n",
    "for i in range(10):\n",
    "    arr.append(int(input(\"Enter number: \")))\n",
    "    \n",
    "even = list(filter(lambda a: a%2 == 0, arr))\n",
    "odd = list(filter(lambda a: a%2 != 0, arr))\n",
    "print(\"Even List: \", even, \"\\n\", \"Odd List: \", odd)"
   ]
  },
  {
   "cell_type": "markdown",
   "metadata": {},
   "source": [
    "##### 3. find the cube of each even no. of a list. [using map]"
   ]
  },
  {
   "cell_type": "code",
   "execution_count": 11,
   "metadata": {},
   "outputs": [
    {
     "name": "stdin",
     "output_type": "stream",
     "text": [
      "Enter number:  1\n",
      "Enter number:  2\n",
      "Enter number:  3\n",
      "Enter number:  4\n",
      "Enter number:  5\n",
      "Enter number:  6\n",
      "Enter number:  7\n",
      "Enter number:  8\n",
      "Enter number:  9\n",
      "Enter number:  10\n"
     ]
    },
    {
     "name": "stdout",
     "output_type": "stream",
     "text": [
      "Cubes of Even items:  [8, 64, 216, 512, 1000]\n"
     ]
    }
   ],
   "source": [
    "arr = []\n",
    "for i in range(10):\n",
    "    arr.append(int(input(\"Enter number: \")))\n",
    "    \n",
    "cubes = list(map(lambda a: a**3, list(filter(lambda a: a % 2 == 0, arr))))\n",
    "print(\"Cubes of Even items: \", cubes)"
   ]
  },
  {
   "cell_type": "markdown",
   "metadata": {},
   "source": [
    "##### 4. find the mean value of a given list. [using reduce]"
   ]
  },
  {
   "cell_type": "code",
   "execution_count": 12,
   "metadata": {},
   "outputs": [
    {
     "name": "stdin",
     "output_type": "stream",
     "text": [
      "Enter number:  1\n",
      "Enter number:  2\n",
      "Enter number:  3\n",
      "Enter number:  4\n",
      "Enter number:  5\n",
      "Enter number:  6\n",
      "Enter number:  7\n",
      "Enter number:  8\n",
      "Enter number:  9\n",
      "Enter number:  10\n"
     ]
    },
    {
     "name": "stdout",
     "output_type": "stream",
     "text": [
      "Mean:  5.5\n"
     ]
    }
   ],
   "source": [
    "from functools import *\n",
    "\n",
    "arr = []\n",
    "for i in range(10):\n",
    "    arr.append(int(input(\"Enter number: \")))\n",
    "    \n",
    "mean = reduce(lambda a,b: a + b, arr) / len(arr)\n",
    "print(\"Mean: \", mean)"
   ]
  },
  {
   "cell_type": "markdown",
   "metadata": {},
   "source": [
    "##### 5. find the sum of N natural numbers."
   ]
  },
  {
   "cell_type": "code",
   "execution_count": 13,
   "metadata": {},
   "outputs": [
    {
     "name": "stdin",
     "output_type": "stream",
     "text": [
      "Enter value of N:  5\n"
     ]
    },
    {
     "name": "stdout",
     "output_type": "stream",
     "text": [
      "Sum of  5 natural numbers:  15.0\n"
     ]
    }
   ],
   "source": [
    "from functools import *\n",
    "\n",
    "n = int(input(\"Enter value of N: \"))\n",
    "exp = lambda n: (n * (n + 1)) / 2\n",
    "sumN = exp(n)\n",
    "print(\"Sum of\", n, \"natural numbers: \", sumN)"
   ]
  }
 ],
 "metadata": {
  "kernelspec": {
   "display_name": "Python 3",
   "language": "python",
   "name": "python3"
  },
  "language_info": {
   "codemirror_mode": {
    "name": "ipython",
    "version": 3
   },
   "file_extension": ".py",
   "mimetype": "text/x-python",
   "name": "python",
   "nbconvert_exporter": "python",
   "pygments_lexer": "ipython3",
   "version": "3.7.1"
  }
 },
 "nbformat": 4,
 "nbformat_minor": 2
}
