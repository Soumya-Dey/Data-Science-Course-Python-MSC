{
 "cells": [
  {
   "cell_type": "markdown",
   "metadata": {},
   "source": [
    "```python\n",
    "x = list(filter(lambda, list/seq))\n",
    "y = list(map(lambda, list/seq))\n",
    "z = reduce(lambda)\n",
    "```"
   ]
  },
  {
   "cell_type": "code",
   "execution_count": 1,
   "metadata": {},
   "outputs": [],
   "source": [
    "arr = list([1,2,3,5,6,7,8,9])\n",
    "even = list(filter(lambda a: a%2 == 0, arr))\n",
    "odd = list(filter(lambda a: a%2 != 0, arr))"
   ]
  },
  {
   "cell_type": "code",
   "execution_count": 2,
   "metadata": {},
   "outputs": [
    {
     "data": {
      "text/plain": [
       "[2, 6, 8]"
      ]
     },
     "execution_count": 2,
     "metadata": {},
     "output_type": "execute_result"
    }
   ],
   "source": [
    "even"
   ]
  },
  {
   "cell_type": "code",
   "execution_count": 3,
   "metadata": {},
   "outputs": [
    {
     "data": {
      "text/plain": [
       "[1, 3, 5, 7, 9]"
      ]
     },
     "execution_count": 3,
     "metadata": {},
     "output_type": "execute_result"
    }
   ],
   "source": [
    "odd"
   ]
  },
  {
   "cell_type": "code",
   "execution_count": 11,
   "metadata": {},
   "outputs": [
    {
     "name": "stdin",
     "output_type": "stream",
     "text": [
      "Enter number:  2\n",
      "Enter number:  3\n",
      "Enter number:  4\n",
      "Enter number:  5\n",
      "Enter number:  6\n",
      "Enter number:  7\n",
      "Enter number:  8\n",
      "Enter number:  9\n",
      "Enter number:  10\n",
      "Enter number:  11\n"
     ]
    }
   ],
   "source": [
    "arr = []\n",
    "for i in range(10):\n",
    "    arr.append(int(input(\"Enter number: \")))\n",
    "    \n",
    "arr2 = list(map(lambda a: a**2, arr))\n",
    "arr3 = list(map(lambda a: a**3, arr))"
   ]
  },
  {
   "cell_type": "code",
   "execution_count": 12,
   "metadata": {},
   "outputs": [
    {
     "data": {
      "text/plain": [
       "[4, 9, 16, 25, 36, 49, 64, 81, 100, 121]"
      ]
     },
     "execution_count": 12,
     "metadata": {},
     "output_type": "execute_result"
    }
   ],
   "source": [
    "even"
   ]
  },
  {
   "cell_type": "code",
   "execution_count": 13,
   "metadata": {},
   "outputs": [
    {
     "data": {
      "text/plain": [
       "[8, 27, 64, 125, 216, 343, 512, 729, 1000, 1331]"
      ]
     },
     "execution_count": 13,
     "metadata": {},
     "output_type": "execute_result"
    }
   ],
   "source": [
    "odd"
   ]
  },
  {
   "cell_type": "code",
   "execution_count": 16,
   "metadata": {},
   "outputs": [
    {
     "name": "stdin",
     "output_type": "stream",
     "text": [
      "Enter number:  1\n",
      "Enter number:  2\n",
      "Enter number:  3\n",
      "Enter number:  4\n",
      "Enter number:  5\n",
      "Enter number:  6\n",
      "Enter number:  7\n",
      "Enter number:  8\n",
      "Enter number:  9\n",
      "Enter number:  10\n"
     ]
    },
    {
     "data": {
      "text/plain": [
       "3628800"
      ]
     },
     "execution_count": 16,
     "metadata": {},
     "output_type": "execute_result"
    }
   ],
   "source": [
    "from functools import *\n",
    "\n",
    "arr = []\n",
    "for i in range(10):\n",
    "    arr.append(int(input(\"Enter number: \")))\n",
    "    \n",
    "sum = reduce(lambda a,b: a * b, arr)\n",
    "sum"
   ]
  }
 ],
 "metadata": {
  "kernelspec": {
   "display_name": "Python 3",
   "language": "python",
   "name": "python3"
  },
  "language_info": {
   "codemirror_mode": {
    "name": "ipython",
    "version": 3
   },
   "file_extension": ".py",
   "mimetype": "text/x-python",
   "name": "python",
   "nbconvert_exporter": "python",
   "pygments_lexer": "ipython3",
   "version": "3.7.1"
  }
 },
 "nbformat": 4,
 "nbformat_minor": 2
}
