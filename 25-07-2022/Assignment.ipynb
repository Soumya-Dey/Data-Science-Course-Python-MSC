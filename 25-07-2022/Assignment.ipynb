{
 "cells": [
  {
   "cell_type": "markdown",
   "metadata": {},
   "source": [
    "#### 1. WAP to create a dictionary of English words with values as their ASCII. Provide the user with an option to look it up"
   ]
  },
  {
   "cell_type": "code",
   "execution_count": 21,
   "metadata": {},
   "outputs": [],
   "source": [
    "wordsAscii = {}\n",
    "\n",
    "for i in range(5):\n",
    "    word = input(\"Enter a word: \")\n",
    "    asciiTotal = 0\n",
    "    for letter in word:\n",
    "        asciiTotal += ord(letter.upper())\n",
    "        \n",
    "    wordsAscii[word.upper()] = asciiTotal"
   ]
  },
  {
   "cell_type": "code",
   "execution_count": 26,
   "metadata": {},
   "outputs": [],
   "source": [
    "def lookUpWords(word):\n",
    "    if(word in wordsAscii):\n",
    "        print(wordsAscii[word])\n",
    "    else: print(\"Key does not exist in the dictionary!\")"
   ]
  },
  {
   "cell_type": "code",
   "execution_count": 29,
   "metadata": {},
   "outputs": [
    {
     "name": "stdout",
     "output_type": "stream",
     "text": [
      "390\n"
     ]
    }
   ],
   "source": [
    "lookUpWords(input(\"Enter a word: \"))"
   ]
  },
  {
   "cell_type": "markdown",
   "metadata": {},
   "source": [
    "#### 2. WAP to input 8 numbers from the user and display all the unique numbers."
   ]
  },
  {
   "cell_type": "code",
   "execution_count": 7,
   "metadata": {},
   "outputs": [
    {
     "name": "stdout",
     "output_type": "stream",
     "text": [
      "Unique numbers: \n",
      "{0, 1, 2, 4, 5, 8, 12}\n"
     ]
    }
   ],
   "source": [
    "s = set()\n",
    "\n",
    "for i in range(8):\n",
    "    s.add(int(input(\"Enter some number\")))\n",
    "    \n",
    "print(\"Unique numbers: \")\n",
    "print(s)"
   ]
  },
  {
   "cell_type": "markdown",
   "metadata": {},
   "source": [
    "#### 3. Create an empty dictionary. Allow 4 friends to enter their favourite language as values and use keys as their names. Assume that the names are unique."
   ]
  },
  {
   "cell_type": "code",
   "execution_count": 34,
   "metadata": {},
   "outputs": [
    {
     "name": "stdout",
     "output_type": "stream",
     "text": [
      "[0]\n",
      "[1]\n",
      "[2]\n",
      "[3]\n"
     ]
    }
   ],
   "source": [
    "langDict = {}\n",
    "\n",
    "for i in range(4):\n",
    "    print(\"[\" + str(i) + \"]\")\n",
    "    langDict[input(\"Enter your name: \")] = input(\"Enter your favourite language: \")"
   ]
  },
  {
   "cell_type": "code",
   "execution_count": 35,
   "metadata": {},
   "outputs": [
    {
     "data": {
      "text/plain": [
       "{'Arka': 'Bengali',\n",
       " 'Atanu': 'Urdu',\n",
       " 'Soumya': 'English',\n",
       " 'Sourjaya': 'Japanese'}"
      ]
     },
     "execution_count": 35,
     "metadata": {},
     "output_type": "execute_result"
    }
   ],
   "source": [
    "langDict"
   ]
  },
  {
   "cell_type": "markdown",
   "metadata": {},
   "source": [
    "#### 4. WAP to print multiplication table of a given number using for and while loop."
   ]
  },
  {
   "cell_type": "code",
   "execution_count": 84,
   "metadata": {},
   "outputs": [],
   "source": [
    "def printMul(n):\n",
    "    print(\"Multiplicaion table of \" + str(n))\n",
    "    for i in range(1, 11):\n",
    "        print(str(n) + \" X \" + str(i) + \" = \" + str(n*i))"
   ]
  },
  {
   "cell_type": "code",
   "execution_count": 85,
   "metadata": {},
   "outputs": [
    {
     "name": "stdout",
     "output_type": "stream",
     "text": [
      "Multiplicaion table of 7\n",
      "7 X 1 = 7\n",
      "7 X 2 = 14\n",
      "7 X 3 = 21\n",
      "7 X 4 = 28\n",
      "7 X 5 = 35\n",
      "7 X 6 = 42\n",
      "7 X 7 = 49\n",
      "7 X 8 = 56\n",
      "7 X 9 = 63\n",
      "7 X 10 = 70\n"
     ]
    }
   ],
   "source": [
    "printMul(int(input(\"Enter number: \")))"
   ]
  },
  {
   "cell_type": "markdown",
   "metadata": {},
   "source": [
    "#### 5. WAP to greet all the person names stored in a list l1 and which starts with \"S\".\n",
    "```python\n",
    "l1 = [\"Ram\", \"Sam\", \"Madhu\"]\n",
    "```"
   ]
  },
  {
   "cell_type": "code",
   "execution_count": 75,
   "metadata": {},
   "outputs": [
    {
     "name": "stdout",
     "output_type": "stream",
     "text": [
      "Hello, Sam!\n"
     ]
    }
   ],
   "source": [
    "def greet(l):\n",
    "    for name in l:\n",
    "        if name.lower()[0] == \"s\":\n",
    "            print(\"Hello, \" + name + \"!\");\n",
    "        \n",
    "greet([\"Ram\", \"Sam\", \"Madhu\"])"
   ]
  },
  {
   "cell_type": "markdown",
   "metadata": {},
   "source": [
    "#### 6. WAP to find whether a given number is prime or not."
   ]
  },
  {
   "cell_type": "code",
   "execution_count": 76,
   "metadata": {},
   "outputs": [
    {
     "name": "stdout",
     "output_type": "stream",
     "text": [
      "Not Prime\n"
     ]
    }
   ],
   "source": [
    "from math import sqrt\n",
    "\n",
    "def checkPrime(n):\n",
    "    isPrime = True\n",
    "    if(n > 1):\n",
    "        for i in range(2, int(sqrt(n)) + 1):\n",
    "            if (n % i == 0):\n",
    "                isPrime = False\n",
    "                break\n",
    "            \n",
    "        if (isPrime):\n",
    "            print(\"Prime\")\n",
    "        else:\n",
    "            print(\"Not Prime\")\n",
    "    else:\n",
    "        print(\"Prime\")\n",
    "\n",
    "checkPrime(int(input(\"Enter a number: \")))"
   ]
  },
  {
   "cell_type": "markdown",
   "metadata": {},
   "source": [
    "#### 7. WAP to find the sum of first n natural numbers using while loop."
   ]
  },
  {
   "cell_type": "code",
   "execution_count": 77,
   "metadata": {},
   "outputs": [
    {
     "name": "stdout",
     "output_type": "stream",
     "text": [
      "Sum of first 7 natural numbers: 28\n"
     ]
    }
   ],
   "source": [
    "def sumOfFirstN(n):\n",
    "    i = 1\n",
    "    s = 0\n",
    "    while i < n+1:\n",
    "        s += i\n",
    "        i += 1\n",
    "    \n",
    "    print(\"Sum of first \" + str(n) + \" natural numbers: \" + str(s))\n",
    "    \n",
    "sumOfFirstN(int(input(\"How many numbers: \")))"
   ]
  },
  {
   "cell_type": "markdown",
   "metadata": {},
   "source": [
    "#### 8. WAP to calculate the factorial of a given number using for loop."
   ]
  },
  {
   "cell_type": "code",
   "execution_count": 78,
   "metadata": {},
   "outputs": [
    {
     "name": "stdout",
     "output_type": "stream",
     "text": [
      "Factorial: 120\n"
     ]
    }
   ],
   "source": [
    "def factorial(n): \n",
    "    fact = 1\n",
    "    if(n <= 0):\n",
    "        print(\"Factorial: \" + str(fact))\n",
    "    else:\n",
    "        for i in range(2, n+1):\n",
    "            fact *= i\n",
    "        \n",
    "        print(\"Factorial: \" + str(fact))\n",
    "\n",
    "factorial(int(input(\"Enter a number: \")))"
   ]
  }
 ],
 "metadata": {
  "kernelspec": {
   "display_name": "Python 3.10.2 64-bit",
   "language": "python",
   "name": "python3"
  },
  "language_info": {
   "codemirror_mode": {
    "name": "ipython",
    "version": 3
   },
   "file_extension": ".py",
   "mimetype": "text/x-python",
   "name": "python",
   "nbconvert_exporter": "python",
   "pygments_lexer": "ipython3",
   "version": "3.10.2"
  },
  "vscode": {
   "interpreter": {
    "hash": "fd6e7ecaffaa71ef33fb81daceda8b8a0e3505b21515cbd81b51210ee8828321"
   }
  }
 },
 "nbformat": 4,
 "nbformat_minor": 2
}
