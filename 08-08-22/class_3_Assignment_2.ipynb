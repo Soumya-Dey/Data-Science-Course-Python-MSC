{
 "cells": [
  {
   "cell_type": "markdown",
   "metadata": {},
   "source": [
    "## Assignment 2 | Date : 8 Aug 2022 ##\n",
    "\n",
    "### 1. Write a program to input a range of numbers (input lower bound and upper bound) and find the Fibonacci series within that range. [Use Recursive Function] ###\n",
    "\n",
    "### 2. Write a program to input two numbers (input lower bound and upper bound) and print all the numbers which are primes as well as palindromes ###\n",
    "\n",
    "### 3. Write a program to input two numbers (input lower bound and upper bound) and print all the numbers in a list which are non prime as well as palindromes. Split the list into oddL and evenL lists that will contain odd numbers and even numbers which are non prime and palindromes. ###\n",
    "\n",
    "### 4. Write a program to input a number (number of rows) and print Pascal's Trianlge. ###\n",
    "\n",
    "### 5. Write a program to input a number (number of rows) and print Floyd's Trianlge. ###\n"
   ]
  },
  {
   "cell_type": "markdown",
   "metadata": {},
   "source": [
    "## Solutions ##"
   ]
  },
  {
   "cell_type": "markdown",
   "metadata": {},
   "source": [
    "### Problem 1 ###"
   ]
  },
  {
   "cell_type": "code",
   "execution_count": null,
   "metadata": {
    "collapsed": true
   },
   "outputs": [],
   "source": []
  },
  {
   "cell_type": "markdown",
   "metadata": {},
   "source": [
    "### Problem 2 ###"
   ]
  },
  {
   "cell_type": "code",
   "execution_count": null,
   "metadata": {
    "collapsed": true
   },
   "outputs": [],
   "source": []
  },
  {
   "cell_type": "markdown",
   "metadata": {},
   "source": [
    "### Problem 3 ###"
   ]
  },
  {
   "cell_type": "markdown",
   "metadata": {},
   "source": [
    "### Problem 4 ###"
   ]
  },
  {
   "cell_type": "code",
   "execution_count": null,
   "metadata": {
    "collapsed": true
   },
   "outputs": [],
   "source": [
    "num = int(input(\"Enter the number: \"))  \n",
    "list1 = []   \n",
    "for i in range(num):  \n",
    "  list1.append([])  \n",
    "  list1[i].append(1)  \n",
    "  for j in range(1, i):  \n",
    "    list1[i].append(list1[i - 1][j - 1] + list1[i - 1][j])  \n",
    "  if(num != 0):  \n",
    "    list1[i].append(1)  \n",
    "for i in range(num):  \n",
    "  print(\" \" * (num - i), end = \" \", sep = \" \")  \n",
    "  for j in range(0, i + 1):  \n",
    "    print('{0:6}'.format(list1[i][j]), end = \" \", sep = \" \")  \n",
    "  print()  "
   ]
  },
  {
   "cell_type": "markdown",
   "metadata": {},
   "source": [
    "### Problem 5 ###"
   ]
  },
  {
   "cell_type": "code",
   "execution_count": 1,
   "metadata": {
    "collapsed": true
   },
   "outputs": [
    {
     "name": "stdout",
     "output_type": "stream",
     "text": [
      "Floyd's Triangle\n",
      "1  \n",
      "2  3  \n",
      "4  5  6  \n",
      "7  8  9  10  \n",
      "11  12  13  14  15  \n"
     ]
    }
   ],
   "source": [
    "rows = int(input(\"Please Enter the total Number of Rows  : \"))\n",
    "number = 1\n",
    "\n",
    "print(\"Floyd's Triangle\") \n",
    "for i in range(1, rows + 1):\n",
    "    for j in range(1, i + 1):        \n",
    "        print(number, end = '  ')\n",
    "        number = number + 1\n",
    "    print()"
   ]
  },
  {
   "cell_type": "code",
   "execution_count": null,
   "metadata": {},
   "outputs": [],
   "source": []
  }
 ],
 "metadata": {
  "kernelspec": {
   "display_name": "Python 3.9.12 ('base')",
   "language": "python",
   "name": "python3"
  },
  "language_info": {
   "codemirror_mode": {
    "name": "ipython",
    "version": 3
   },
   "file_extension": ".py",
   "mimetype": "text/x-python",
   "name": "python",
   "nbconvert_exporter": "python",
   "pygments_lexer": "ipython3",
   "version": "3.9.12"
  },
  "vscode": {
   "interpreter": {
    "hash": "99a55ef0ee9f065b0c26ad4053d52b192c4a9660d78e44faeb519ba7034d1dcd"
   }
  }
 },
 "nbformat": 4,
 "nbformat_minor": 2
}
