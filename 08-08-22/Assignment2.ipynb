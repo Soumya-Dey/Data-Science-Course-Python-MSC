{
 "cells": [
  {
   "cell_type": "markdown",
   "metadata": {},
   "source": [
    "#### 1. WAP to input a range of numbers (input lower bound and upper bound) and find the fibonacci series withing that range. [use recursive function]"
   ]
  },
  {
   "cell_type": "code",
   "execution_count": 1,
   "metadata": {},
   "outputs": [
    {
     "name": "stdout",
     "output_type": "stream",
     "text": [
      "3\n",
      "5\n",
      "8\n"
     ]
    }
   ],
   "source": [
    "l = int(input(\"Enter lower bound\"))\n",
    "u = int(input(\"Enter upper bound\"))\n",
    "\n",
    "def fib(n):\n",
    "    if n <= 2:\n",
    "        return 1\n",
    "    else:\n",
    "        return fib(n-1) + fib(n-2)\n",
    "    \n",
    "i = 1\n",
    "while(1):\n",
    "    el = fib(i)\n",
    "    if el < u and el > l:\n",
    "        print(el)\n",
    "    i += 1\n",
    "    \n",
    "    if(el > u):\n",
    "        break"
   ]
  },
  {
   "cell_type": "markdown",
   "metadata": {},
   "source": [
    "#### 2. WAP to input 2 numbers (input lower and upper bound) and print all the numbers which are primes as well as palindromes."
   ]
  },
  {
   "cell_type": "code",
   "execution_count": 7,
   "metadata": {},
   "outputs": [
    {
     "name": "stdout",
     "output_type": "stream",
     "text": [
      "101\n",
      "131\n",
      "151\n"
     ]
    }
   ],
   "source": [
    "from math import sqrt\n",
    "\n",
    "def prime(n):\n",
    "    if(n > 1):\n",
    "        for i in range(2, int(sqrt(n)) + 1):\n",
    "            if (n % i == 0):\n",
    "                return False\n",
    "            \n",
    "        return True\n",
    "    else:\n",
    "        return True\n",
    "    \n",
    "def palindrome(n):\n",
    "    return str(n) == str(n)[::-1]\n",
    "\n",
    "l = int(input(\"Enter lower bound\"))\n",
    "u = int(input(\"Enter upper bound\"))\n",
    "\n",
    "for i in range(l, u + 1):\n",
    "    if prime(i) and palindrome(i):\n",
    "        print(i)"
   ]
  },
  {
   "cell_type": "markdown",
   "metadata": {},
   "source": [
    "#### 3. WAP to input 2 numbers (input lower bound and upper bound) and print all the numbers in a list which are non prime as well as palindromes. Split the list list into oddL and evenL lists that will contain odd numbers and even numbers which are non primes as well as palindromes"
   ]
  },
  {
   "cell_type": "code",
   "execution_count": 13,
   "metadata": {},
   "outputs": [
    {
     "name": "stdout",
     "output_type": "stream",
     "text": [
      "141\n",
      "161\n",
      "171\n",
      "202\n",
      "212\n",
      "222\n",
      "232\n",
      "Even list: \n",
      "[202, 212, 222, 232]\n",
      "Odd list: \n",
      "[141, 161, 171]\n"
     ]
    }
   ],
   "source": [
    "l = int(input(\"Enter lower bound\"))\n",
    "u = int(input(\"Enter upper bound\"))\n",
    "oddL = []\n",
    "evenL = []\n",
    "\n",
    "for i in range(l, u+1):\n",
    "    if not prime(i) and palindrome(i):\n",
    "        print(i)\n",
    "        if i % 2 == 0:\n",
    "            evenL.append(i)\n",
    "        else:\n",
    "            oddL.append(i)\n",
    "          \n",
    "print(\"Even list: \")\n",
    "print(evenL)\n",
    "print(\"Odd list: \")\n",
    "print(oddL)"
   ]
  },
  {
   "cell_type": "markdown",
   "metadata": {},
   "source": [
    "#### 4. WAP to print pascal triangle"
   ]
  },
  {
   "cell_type": "code",
   "execution_count": 40,
   "metadata": {},
   "outputs": [
    {
     "name": "stdout",
     "output_type": "stream",
     "text": [
      "     1 \n",
      "    1 1 \n",
      "   1 2 1 \n",
      "  1 3 3 1 \n",
      " 1 4 6 4 1 \n"
     ]
    }
   ],
   "source": [
    "list = []\n",
    "rows = int(input(\"Enter no. of rows\"))\n",
    "\n",
    "for i in range(rows):\n",
    "    list.append([])\n",
    "    list[i].append(1)\n",
    "    \n",
    "    for j in range(1, i):\n",
    "        list[i].append(list[i-1][j-1] + list[i-1][j])\n",
    "    \n",
    "    if(rows != 0):\n",
    "        list[i].append(1) \n",
    "        \n",
    "list[0] = [1]\n",
    "\n",
    "for i in range(rows):\n",
    "    print(\" \" * (rows - (i + 1)), end = \" \", sep = \" \")\n",
    "    \n",
    "    for j in range(0, i + 1):  \n",
    "        print(list[i][j], end = \" \", sep = \" \")  \n",
    "    print()  "
   ]
  },
  {
   "cell_type": "code",
   "execution_count": 12,
   "metadata": {},
   "outputs": [
    {
     "name": "stdout",
     "output_type": "stream",
     "text": [
      "    1 \n",
      "   1 1 \n",
      "  1 2 1 \n",
      " 1 3 3 1 \n",
      "1 4 6 4 1 \n"
     ]
    }
   ],
   "source": [
    "def fact(n):\n",
    "    return n * fact(n-1) if n > 1 else 1\n",
    "\n",
    "n = 5\n",
    "\n",
    "for i in range(n):\n",
    "    for j in range(n-i-1):\n",
    "        print(\" \", end=\"\")\n",
    "\n",
    "    for k in range(i+1):\n",
    "        # calculating nCr\n",
    "        v = fact(i) / (fact(i-k) * fact(k))\n",
    "        print(int(v), end=\" \")\n",
    "\n",
    "    print()"
   ]
  },
  {
   "cell_type": "markdown",
   "metadata": {},
   "source": [
    "#### 5. WAP to print floyd's triangle"
   ]
  },
  {
   "cell_type": "code",
   "execution_count": 17,
   "metadata": {},
   "outputs": [
    {
     "name": "stdout",
     "output_type": "stream",
     "text": [
      "1 \n",
      "2 3 \n",
      "4 5 6 \n",
      "7 8 9 10 \n",
      "11 12 13 14 15 \n"
     ]
    }
   ],
   "source": [
    "def floyd(n):\n",
    "    c = 0\n",
    "    for i in range(n):\n",
    "        for j in range(i+1):\n",
    "            c+=1\n",
    "            print(c, end = \" \")\n",
    "        print(\"\")\n",
    "            \n",
    "floyd(int(input(\"Enter no. of rows\")))"
   ]
  },
  {
   "cell_type": "markdown",
   "metadata": {},
   "source": [
    "#### 6."
   ]
  },
  {
   "cell_type": "code",
   "execution_count": 2,
   "metadata": {},
   "outputs": [
    {
     "name": "stdout",
     "output_type": "stream",
     "text": [
      "{2: 22, 3: 33, 4: 44}\n"
     ]
    }
   ],
   "source": [
    "l = int(input(\"Enter lower bound\"))\n",
    "u = int(input(\"Enter upper bound\"))\n",
    "\n",
    "dict = {}\n",
    "i = 1\n",
    "while(1):\n",
    "    n = i * 11\n",
    "    if(n > u):\n",
    "        break\n",
    "    if(n < u and n > l):\n",
    "        dict[i] = n\n",
    "    i+=1\n",
    "      \n",
    "print(dict)"
   ]
  },
  {
   "cell_type": "markdown",
   "metadata": {},
   "source": [
    "#### 8"
   ]
  },
  {
   "cell_type": "code",
   "execution_count": 13,
   "metadata": {},
   "outputs": [
    {
     "name": "stdout",
     "output_type": "stream",
     "text": [
      "{1: 'a', 2: 'b', 3: 'c', 4: 'd'}\n"
     ]
    }
   ],
   "source": [
    "dict1 = {1: \"a\", 2: \"b\"}\n",
    "dict2 = {3: \"c\", 4: \"d\"}\n",
    "merged = {}\n",
    "\n",
    "for (key, value) in dict1.items():\n",
    "    merged[key] = value\n",
    "    \n",
    "for (key, value) in dict2.items():\n",
    "    merged[key] = value\n",
    "    \n",
    "print(merged)"
   ]
  },
  {
   "cell_type": "code",
   "execution_count": 14,
   "metadata": {},
   "outputs": [],
   "source": [
    "def merge(dict1, dict2):\n",
    "    res = dict1 | dict2\n",
    "    return res"
   ]
  },
  {
   "cell_type": "code",
   "execution_count": 15,
   "metadata": {},
   "outputs": [
    {
     "name": "stdout",
     "output_type": "stream",
     "text": [
      "{1: 'a', 2: 'b', 3: 'c', 4: 'd'}\n"
     ]
    }
   ],
   "source": [
    "print(merge(dict1, dict2))"
   ]
  }
 ],
 "metadata": {
  "kernelspec": {
   "display_name": "Python 3.9.12 ('base')",
   "language": "python",
   "name": "python3"
  },
  "language_info": {
   "codemirror_mode": {
    "name": "ipython",
    "version": 3
   },
   "file_extension": ".py",
   "mimetype": "text/x-python",
   "name": "python",
   "nbconvert_exporter": "python",
   "pygments_lexer": "ipython3",
   "version": "3.9.12"
  },
  "vscode": {
   "interpreter": {
    "hash": "99a55ef0ee9f065b0c26ad4053d52b192c4a9660d78e44faeb519ba7034d1dcd"
   }
  }
 },
 "nbformat": 4,
 "nbformat_minor": 2
}
