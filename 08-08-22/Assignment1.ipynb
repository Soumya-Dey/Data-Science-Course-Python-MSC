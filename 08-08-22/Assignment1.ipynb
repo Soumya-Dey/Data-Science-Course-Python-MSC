{
 "cells": [
  {
   "cell_type": "markdown",
   "metadata": {},
   "source": [
    "#### 1. WAP to find the greatest of four numbers entered by user."
   ]
  },
  {
   "cell_type": "code",
   "execution_count": 6,
   "metadata": {},
   "outputs": [
    {
     "name": "stdout",
     "output_type": "stream",
     "text": [
      "10\n"
     ]
    }
   ],
   "source": [
    "numbers = []\n",
    "for i in range(4):\n",
    "    numbers.append(int(input(\"Enter a number: \")))\n",
    "    \n",
    "numbers.sort()\n",
    "print(numbers[len(numbers) - 1])"
   ]
  },
  {
   "cell_type": "markdown",
   "metadata": {},
   "source": [
    "#### 2. WAP to find out whether a student has passed or failed, if it requires total 40% and at least 33% in each subject to pass. Assume 3 subjects and take marks as input from user."
   ]
  },
  {
   "cell_type": "code",
   "execution_count": 16,
   "metadata": {},
   "outputs": [
    {
     "name": "stdout",
     "output_type": "stream",
     "text": [
      "Marks: \n",
      "[80, 30, 70]\n",
      "Results: \n",
      "['Pass', 'Fail', 'Pass']\n",
      "Overall: 60%[Fail]\n"
     ]
    }
   ],
   "source": [
    "marks = []\n",
    "result = []\n",
    "total = 0\n",
    "overall = \"Fail\"\n",
    "\n",
    "for i in range(3):\n",
    "    subMark = int(input(\"Subject \" + str(i+1) + \" Marks: \"))\n",
    "    if subMark >= 33:\n",
    "        result.append(\"Pass\")\n",
    "    else:\n",
    "        result.append(\"Fail\")\n",
    "    total += subMark\n",
    "    marks.append(subMark)\n",
    "    \n",
    "print(\"Marks: \")\n",
    "print(marks)\n",
    "\n",
    "print(\"Results: \")\n",
    "print(result)\n",
    "\n",
    "if int(total / 3) >= 40:\n",
    "    ovreall = \"Pass\"\n",
    "print(\"Overall: \" + str(int(total / 3)) + \"%[\" + overall + \"]\")"
   ]
  },
  {
   "cell_type": "markdown",
   "metadata": {},
   "source": [
    "#### 3. WAP to find whether a given username contains less than 10 charcters or not."
   ]
  },
  {
   "cell_type": "code",
   "execution_count": 18,
   "metadata": {},
   "outputs": [
    {
     "name": "stdout",
     "output_type": "stream",
     "text": [
      "Username conatins less than 10 characters!\n"
     ]
    }
   ],
   "source": [
    "username = input(\"Enter your username:\")\n",
    "if len(username) < 10 :\n",
    "    print(\"Username conatins less than 10 characters!\")\n",
    "else:\n",
    "    print(\"Username is accepted\")"
   ]
  },
  {
   "cell_type": "markdown",
   "metadata": {},
   "source": [
    "#### 4. WAP which finds out whether a given name is present in a list or not."
   ]
  },
  {
   "cell_type": "code",
   "execution_count": 21,
   "metadata": {},
   "outputs": [
    {
     "name": "stdout",
     "output_type": "stream",
     "text": [
      "Enetered name is in the list\n"
     ]
    }
   ],
   "source": [
    "names = [\"harry\", \"ron\", \"hermione\", \"draco\"]\n",
    "if input(\"Enter your name: \").lower() in names:\n",
    "    print(\"Enetered name is in the list\")\n",
    "else:\n",
    "    print(\"Enetered name is not in the list\")"
   ]
  },
  {
   "cell_type": "markdown",
   "metadata": {},
   "source": [
    "#### 5. WAP to calculate the grade of a student from his marks from the following scheme:\n",
    "- 90-100 -> Ex\n",
    "- 80-90 -> A\n",
    "- 70-80 -> B etc."
   ]
  },
  {
   "cell_type": "code",
   "execution_count": 48,
   "metadata": {},
   "outputs": [
    {
     "name": "stdout",
     "output_type": "stream",
     "text": [
      "Your marks: 20.0\n",
      "Grade: F\n"
     ]
    }
   ],
   "source": [
    "marks = float(input(\"Enter marks: \"))\n",
    "\n",
    "grade = \"F\"\n",
    "if marks >= 90:\n",
    "    grade = \"Ex\"\n",
    "elif marks >= 80:\n",
    "    grade = \"A\"\n",
    "elif marks >= 70:\n",
    "    grade = \"B\"\n",
    "elif marks >= 60:\n",
    "    grade = \"C\"\n",
    "elif marks >= 50:\n",
    "    grade = \"D\"\n",
    "elif marks >= 40:\n",
    "    grade = \"E\"\n",
    "else:\n",
    "    grade = \"F\"\n",
    "    \n",
    "print(\"Your marks: \" + str(marks))\n",
    "print(\"Grade: \" + str(grade))"
   ]
  },
  {
   "cell_type": "markdown",
   "metadata": {},
   "source": [
    "#### 6. WAP to find out whether a given post is talking about \"Harry\" or not."
   ]
  },
  {
   "cell_type": "code",
   "execution_count": 23,
   "metadata": {},
   "outputs": [
    {
     "name": "stdout",
     "output_type": "stream",
     "text": [
      "Post is talking about Harry\n"
     ]
    }
   ],
   "source": [
    "post = input(\"Enter your post: \").lower()\n",
    "if \"harry\" in post:\n",
    "    print(\"Post is talking about Harry\")\n",
    "else:\n",
    "    print(\"Post is not talking about Harry\")"
   ]
  },
  {
   "cell_type": "markdown",
   "metadata": {},
   "source": [
    "#### 7. WAP to input a number (considered as Farenheit or Celsius) and convert it to Celsius or Farenheit."
   ]
  },
  {
   "cell_type": "code",
   "execution_count": 32,
   "metadata": {},
   "outputs": [
    {
     "name": "stdout",
     "output_type": "stream",
     "text": [
      "37.4*C = 99.3*F\n"
     ]
    }
   ],
   "source": [
    "c = float(input(\"Enter temperature in Celsius: \"))\n",
    "f = ((9 * c) / 5) + 32\n",
    "\n",
    "print(str(c) + \"*C = \" + str(float(\"{0:.1f}\".format(f))) + \"*F\")"
   ]
  },
  {
   "cell_type": "markdown",
   "metadata": {},
   "source": [
    "#### 8. WAP to input a number (considered as Farenheit or Celsius) and convert it to Celsius or Farenheit."
   ]
  },
  {
   "cell_type": "code",
   "execution_count": 33,
   "metadata": {},
   "outputs": [
    {
     "name": "stdout",
     "output_type": "stream",
     "text": [
      "98.4*F = 36.9*C\n"
     ]
    }
   ],
   "source": [
    "f = float(input(\"Enter temperature in Farenheit: \"))\n",
    "c = (5 * (f - 32)) / 9\n",
    "\n",
    "print(str(f) + \"*F = \" + str(float(\"{0:.1f}\".format(c))) + \"*C\")"
   ]
  },
  {
   "cell_type": "markdown",
   "metadata": {},
   "source": [
    "#### 9. WAP to input (considered as decimal) and convert it to Hexadecimal or Octal or Binary based on a choice accepted from the user."
   ]
  },
  {
   "cell_type": "code",
   "execution_count": 41,
   "metadata": {},
   "outputs": [
    {
     "name": "stdout",
     "output_type": "stream",
     "text": [
      "12 (decimal) = c (hexadecimal)\n"
     ]
    }
   ],
   "source": [
    "dec = int(input(\"Enter decimal number: \"))\n",
    "choice = int(input((\"Enter your choice: 0 for hexadecimal, 1 for octal, 2 for binary\")))\n",
    "\n",
    "if choice == 0:\n",
    "    print(str(dec) + \" (decimal) = \" + str(hex(dec)).replace(\"0x\", \"\") + \" (hexadecimal)\")\n",
    "elif choice == 1:\n",
    "    print(str(dec) + \" (decimal) = \" + str(oct(dec)).replace(\"0o\", \"\") + \" (octal)\")\n",
    "elif choice == 2:\n",
    "    print(str(dec) + \" (decimal) = \" + str(bin(dec)).replace(\"0b\", \"\") + \" (binary)\")"
   ]
  },
  {
   "cell_type": "markdown",
   "metadata": {},
   "source": [
    "#### 10. WAP to input a number and consider whether the number is duck number or not (number containing at least one 0)"
   ]
  },
  {
   "cell_type": "code",
   "execution_count": 44,
   "metadata": {},
   "outputs": [
    {
     "name": "stdout",
     "output_type": "stream",
     "text": [
      "900 is a Duck number\n"
     ]
    }
   ],
   "source": [
    "n = input(\"Enter a number\")\n",
    "if \"0\" in n:\n",
    "    print(str(n) + \" is a Duck number\")\n",
    "else:\n",
    "    print(str(n) + \" is not a Duck number\")"
   ]
  }
 ],
 "metadata": {
  "kernelspec": {
   "display_name": "Python 3",
   "language": "python",
   "name": "python3"
  },
  "language_info": {
   "codemirror_mode": {
    "name": "ipython",
    "version": 3
   },
   "file_extension": ".py",
   "mimetype": "text/x-python",
   "name": "python",
   "nbconvert_exporter": "python",
   "pygments_lexer": "ipython3",
   "version": "3.6.2"
  }
 },
 "nbformat": 4,
 "nbformat_minor": 2
}
